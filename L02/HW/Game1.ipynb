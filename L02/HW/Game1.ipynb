{
 "cells": [
  {
   "cell_type": "code",
   "execution_count": null,
   "id": "f53b2abd-8e30-463c-85b7-dc5496efde11",
   "metadata": {},
   "outputs": [],
   "source": [
    "# Game: Rock paper scissors\n",
    "# A function to play rock paper scissors with computer\n",
    "# - rules: paper > rock, rock > scissors, etc.\n",
    "# - compter randomly choose one\n",
    "# - player input one\n",
    "# - get result from rule, win / lose / draw\n",
    "# - if draw, not count 1 round, play that round again\n",
    "# - play 3 rounds for each game, who win 2 round win the game"
   ]
  },
  {
   "cell_type": "code",
   "execution_count": null,
   "id": "ccbe44cd-f44b-4182-be78-5d69954ea89a",
   "metadata": {},
   "outputs": [],
   "source": [
    "# computer choose randomly\n",
    "\n",
    "# user input\n",
    "\n",
    "# check who wins the round\n",
    "\n",
    "# loop 3 rounds\n",
    "# -> if draw, repeat the round / do not count that round\n",
    "\n",
    "# count number of wins"
   ]
  },
  {
   "cell_type": "code",
   "execution_count": 1,
   "id": "4505b3fd-ace1-4d7f-b7f1-38db1a63c7db",
   "metadata": {},
   "outputs": [
    {
     "name": "stdout",
     "output_type": "stream",
     "text": [
      "scissors\n"
     ]
    }
   ],
   "source": [
    "# computer choose randomly\n",
    "\n",
    "#option 1\n",
    "import random\n",
    "\n",
    "choices = ['rock', 'papaer', 'scissors']\n",
    "computer_choice = random.choice(choices)\n",
    "print(computer_choice)"
   ]
  },
  {
   "cell_type": "code",
   "execution_count": 2,
   "id": "cfd16313-80b1-4b84-8fa4-949822336bd5",
   "metadata": {},
   "outputs": [
    {
     "name": "stdout",
     "output_type": "stream",
     "text": [
      "0\n"
     ]
    }
   ],
   "source": [
    "#option 2\n",
    "import random\n",
    "\n",
    "choices = [0, 1, 2]\n",
    "computer_choice = random.choice(choices)\n",
    "print(computer_choice)"
   ]
  },
  {
   "cell_type": "code",
   "execution_count": 1,
   "id": "8580c7ec-f548-4538-aaac-db6dad3d7ffb",
   "metadata": {},
   "outputs": [],
   "source": [
    "def game_rps():\n",
    "    import random\n",
    "    print(\"Hi! Let's play rock paper scissors with computer!\")\n",
    "    rounds = input(\"How many rounds do you want to play?\")\n",
    "    round = int(rounds)\n",
    "    print(\"\\nNote:\\n1. Enter your choice as <rock>, <paper> or <scissors>.\\n2. Enter <quit> to quit the game.\")\n",
    "    choices = ['rock', 'paper', 'scissors']\n",
    "    player_win = 0\n",
    "    computer_win = 0\n",
    "    \n",
    "    while round > 0:\n",
    "        print(\"=\"*50)\n",
    "        player_choice = input(\"Your choice:\")\n",
    "        if player_choice == 'quit':\n",
    "            print(\"Bye!\")\n",
    "            break\n",
    "        else:\n",
    "            if player_choice not in choices:\n",
    "                print(\"Invalid input!\")\n",
    "            else:\n",
    "                computer_choice = random.choice(choices)\n",
    "                print(f\"Computer choice: {computer_choice}\")\n",
    "                if player_choice == computer_choice:\n",
    "                    print(\"Draw!\")\n",
    "                    print(\"You : Computer\\n\", player_win, \" : \", computer_win)\n",
    "                elif (player_choice == \"rock\" and computer_choice == \"paper\") or \\\n",
    "                (player_choice == \"paper\" and computer_choice == \"scissors\") or \\\n",
    "                (player_choice == \"scissors\" and computer_choice == \"rock\"):\n",
    "                    print(\"You : Computer\\n\", player_win, \" : \", computer_win + 1)\n",
    "                    round -= 1\n",
    "                    computer_win += 1\n",
    "                elif (player_choice == \"rock\" and computer_choice == \"scissors\") or \\\n",
    "                (player_choice == \"paper\" and computer_choice == \"rock\") or \\\n",
    "                (player_choice == \"scissors\" and computer_choice == \"paper\"):\n",
    "                    print(\"You : Computer\\n\", player_win + 1, \" : \", computer_win)\n",
    "                    round -= 1\n",
    "                    player_win += 1\n",
    "                    \n",
    "            if player_win > int(rounds)/2:\n",
    "                print(\"\\nCongratulations, you win!\")\n",
    "                break\n",
    "            elif computer_win > int(rounds)/2:\n",
    "                print(\"\\nSorry, you lose!\")\n",
    "                break\n",
    "            elif (player_win == int(rounds)/2) and (player_win == computer_win):\n",
    "                print(\"\\nIt's a tie!\")"
   ]
  },
  {
   "cell_type": "code",
   "execution_count": 2,
   "id": "5ae2ea0c-1133-42ec-b65a-b87d351f597d",
   "metadata": {
    "tags": []
   },
   "outputs": [
    {
     "name": "stdout",
     "output_type": "stream",
     "text": [
      "Hi! Let's play rock paper scissors with computer!\n"
     ]
    },
    {
     "name": "stdin",
     "output_type": "stream",
     "text": [
      "How many rounds do you want to play? 3\n"
     ]
    },
    {
     "name": "stdout",
     "output_type": "stream",
     "text": [
      "\n",
      "Note:\n",
      "1. Enter your choice as <rock>, <paper> or <scissors>.\n",
      "2. Enter <quit> to quit the game.\n",
      "==================================================\n"
     ]
    },
    {
     "name": "stdin",
     "output_type": "stream",
     "text": [
      "Your choice: rock\n"
     ]
    },
    {
     "name": "stdout",
     "output_type": "stream",
     "text": [
      "Computer choice: rock\n",
      "Draw!\n",
      "You : Computer\n",
      " 0  :  0\n",
      "==================================================\n"
     ]
    },
    {
     "name": "stdin",
     "output_type": "stream",
     "text": [
      "Your choice: paper\n"
     ]
    },
    {
     "name": "stdout",
     "output_type": "stream",
     "text": [
      "Computer choice: scissors\n",
      "You : Computer\n",
      " 0  :  1\n",
      "==================================================\n"
     ]
    },
    {
     "name": "stdin",
     "output_type": "stream",
     "text": [
      "Your choice: scissors\n"
     ]
    },
    {
     "name": "stdout",
     "output_type": "stream",
     "text": [
      "Computer choice: rock\n",
      "You : Computer\n",
      " 0  :  2\n",
      "\n",
      "Sorry, you lose!\n"
     ]
    }
   ],
   "source": [
    "game_rps()"
   ]
  },
  {
   "cell_type": "code",
   "execution_count": null,
   "id": "8b7a704f-54c7-4e7f-98b4-ebd5d473f06c",
   "metadata": {},
   "outputs": [],
   "source": []
  }
 ],
 "metadata": {
  "kernelspec": {
   "display_name": "Python 3 (ipykernel)",
   "language": "python",
   "name": "python3"
  },
  "language_info": {
   "codemirror_mode": {
    "name": "ipython",
    "version": 3
   },
   "file_extension": ".py",
   "mimetype": "text/x-python",
   "name": "python",
   "nbconvert_exporter": "python",
   "pygments_lexer": "ipython3",
   "version": "3.9.12"
  }
 },
 "nbformat": 4,
 "nbformat_minor": 5
}
